{
 "cells": [
  {
   "cell_type": "code",
   "execution_count": 1,
   "id": "6fd25a56",
   "metadata": {},
   "outputs": [],
   "source": [
    "import sqlite3\n",
    "import pandas as pd"
   ]
  },
  {
   "cell_type": "code",
   "execution_count": 3,
   "id": "ddf810c1",
   "metadata": {},
   "outputs": [],
   "source": [
    "# Opening the data base files"
   ]
  },
  {
   "cell_type": "code",
   "execution_count": 4,
   "id": "62cda0f5",
   "metadata": {},
   "outputs": [],
   "source": [
    "conn_AMA = sqlite3.connect('database_AMA.db')\n",
    "conn_stradali = sqlite3.connect('database_stradali.db')"
   ]
  },
  {
   "cell_type": "code",
   "execution_count": null,
   "id": "278430f7",
   "metadata": {},
   "outputs": [],
   "source": [
    "df_AMA = pd.read"
   ]
  }
 ],
 "metadata": {
  "kernelspec": {
   "display_name": "Python 3 (ipykernel)",
   "language": "python",
   "name": "python3"
  },
  "language_info": {
   "codemirror_mode": {
    "name": "ipython",
    "version": 3
   },
   "file_extension": ".py",
   "mimetype": "text/x-python",
   "name": "python",
   "nbconvert_exporter": "python",
   "pygments_lexer": "ipython3",
   "version": "3.10.6"
  }
 },
 "nbformat": 4,
 "nbformat_minor": 5
}
